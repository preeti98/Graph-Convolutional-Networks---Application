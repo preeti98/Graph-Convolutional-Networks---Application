{
 "cells": [
  {
   "cell_type": "code",
   "execution_count": 1,
   "metadata": {},
   "outputs": [],
   "source": [
    "from nltk.corpus import stopwords\n",
    "import nltk\n",
    "from nltk.wsd import lesk\n",
    "from nltk.corpus import wordnet as wn\n",
    "from utils import clean_str, loadWord2Vec\n",
    "import sys"
   ]
  },
  {
   "cell_type": "code",
   "execution_count": 2,
   "metadata": {},
   "outputs": [
    {
     "ename": "SystemExit",
     "evalue": "Use: python remove_words.py <dataset>",
     "output_type": "error",
     "traceback": [
      "An exception has occurred, use %tb to see the full traceback.\n",
      "\u001b[0;31mSystemExit\u001b[0m\u001b[0;31m:\u001b[0m Use: python remove_words.py <dataset>\n"
     ]
    },
    {
     "name": "stderr",
     "output_type": "stream",
     "text": [
      "/home/preeti/anaconda3/lib/python3.6/site-packages/IPython/core/interactiveshell.py:2971: UserWarning: To exit: use 'exit', 'quit', or Ctrl-D.\n",
      "  warn(\"To exit: use 'exit', 'quit', or Ctrl-D.\", stacklevel=1)\n"
     ]
    }
   ],
   "source": [
    "if len(sys.argv) != 2:\n",
    "\tsys.exit(\"Use: python remove_words.py <dataset>\")\n"
   ]
  },
  {
   "cell_type": "code",
   "execution_count": 3,
   "metadata": {},
   "outputs": [],
   "source": [
    "datasets = ['R8']\n",
    "dataset = sys.argv[1]"
   ]
  },
  {
   "cell_type": "code",
   "execution_count": 4,
   "metadata": {},
   "outputs": [
    {
     "ename": "SystemExit",
     "evalue": "wrong dataset name",
     "output_type": "error",
     "traceback": [
      "An exception has occurred, use %tb to see the full traceback.\n",
      "\u001b[0;31mSystemExit\u001b[0m\u001b[0;31m:\u001b[0m wrong dataset name\n"
     ]
    },
    {
     "name": "stderr",
     "output_type": "stream",
     "text": [
      "/home/preeti/anaconda3/lib/python3.6/site-packages/IPython/core/interactiveshell.py:2971: UserWarning: To exit: use 'exit', 'quit', or Ctrl-D.\n",
      "  warn(\"To exit: use 'exit', 'quit', or Ctrl-D.\", stacklevel=1)\n"
     ]
    }
   ],
   "source": [
    "if dataset not in datasets:\n",
    "\tsys.exit(\"wrong dataset name\")\n"
   ]
  },
  {
   "cell_type": "code",
   "execution_count": 5,
   "metadata": {},
   "outputs": [
    {
     "name": "stdout",
     "output_type": "stream",
     "text": [
      "{'re', 'does', 'is', 'won', 'themselves', 's', 'on', \"should've\", \"isn't\", 'against', 'below', \"wouldn't\", 'too', 'any', 'own', 't', 'has', 'will', 'just', \"hadn't\", 'more', 've', 'not', 'were', 'having', \"aren't\", \"couldn't\", 'isn', 'hadn', 'theirs', \"you've\", 'off', \"you'll\", 'as', 'its', 'from', 'itself', 'm', 'such', 'if', \"wasn't\", 'at', 'be', \"shan't\", 'because', 'haven', 'the', 'all', 'above', 'needn', 'mustn', \"you'd\", 'during', 'of', 'being', 'down', 'are', 'doing', 'after', 'them', 'very', \"doesn't\", 'these', 'we', 'weren', 'while', 'i', 'your', 'who', 'was', 'hasn', 'for', 'same', 'an', 'myself', 'between', \"needn't\", 'do', 'each', 'what', 'no', 'ain', 'which', 'ma', 'couldn', 'ourselves', 'so', 'd', \"mustn't\", 'am', 'his', \"she's\", \"haven't\", 'mightn', 'wasn', \"you're\", 'but', 'over', 'through', \"weren't\", 'should', 'up', 'aren', 'have', 'a', 'until', \"won't\", 'into', \"hasn't\", 'why', 'before', 'where', 'himself', 'with', 'didn', 'o', 'under', 'whom', 'that', 'he', 'me', \"it's\", 'than', 'further', 'once', 'him', 'both', 'this', 'most', 'they', 'those', 'then', 'don', \"shouldn't\", 'some', 'our', 'other', 'it', \"that'll\", 'did', 'can', 'doesn', 'shouldn', 'yours', 'out', 'in', 'there', 'ours', 'only', 'nor', 'you', 'she', 'herself', 'by', 'when', 'and', \"didn't\", 'my', 'shan', 'again', \"don't\", 'yourselves', 'll', 'here', 'y', 'their', 'about', 'hers', 'now', \"mightn't\", 'been', 'or', 'wouldn', 'yourself', 'few', 'had', 'to', 'her', 'how'}\n"
     ]
    }
   ],
   "source": [
    "# nltk.download('stopwords')\n",
    "stop_words = set(stopwords.words('english'))\n",
    "print(stop_words)\n"
   ]
  },
  {
   "cell_type": "code",
   "execution_count": 6,
   "metadata": {},
   "outputs": [],
   "source": [
    "# Read Word Vectors\n",
    "# word_vector_file = 'data/glove.6B/glove.6B.200d.txt'\n",
    "# vocab, embd, word_vector_map = loadWord2Vec(word_vector_file)\n",
    "# word_embeddings_dim = len(embd[0])\n",
    "# dataset = '20ng'\n",
    "\n",
    "doc_content_list = []\n",
    "f = open('data/corpus/train_all.txt', 'rb')\n",
    "# f = open('data/wiki_long_abstracts_en_text.txt', 'r')\n",
    "for line in f.readlines():\n",
    "    doc_content_list.append(line.strip().decode('latin1'))\n",
    "f.close()"
   ]
  },
  {
   "cell_type": "code",
   "execution_count": 7,
   "metadata": {},
   "outputs": [],
   "source": [
    "word_freq = {}  # to remove rare words\n",
    "\n",
    "for doc_content in doc_content_list:\n",
    "    temp = clean_str(doc_content)\n",
    "    words = temp.split()\n",
    "    for word in words:\n",
    "        if word in word_freq:\n",
    "            word_freq[word] += 1\n",
    "        else:\n",
    "            word_freq[word] = 1\n"
   ]
  },
  {
   "cell_type": "code",
   "execution_count": 9,
   "metadata": {},
   "outputs": [],
   "source": [
    "clean_docs = []\n",
    "for doc_content in doc_content_list:\n",
    "    temp = clean_str(doc_content)\n",
    "    words = temp.split()\n",
    "    doc_words = []\n",
    "    for word in words:\n",
    "        # word not in stop_words and word_freq[word] >= 5\n",
    "        if dataset == 'mr':\n",
    "            doc_words.append(word)\n",
    "        elif word not in stop_words and word_freq[word] >= 5:\n",
    "            doc_words.append(word)\n",
    "            \n",
    "        doc_str = ' '.join(doc_words).strip()\n",
    "    #if doc_str == '':\n",
    "        #doc_str = temp\n",
    "        clean_docs.append(doc_str)"
   ]
  },
  {
   "cell_type": "code",
   "execution_count": 10,
   "metadata": {},
   "outputs": [],
   "source": [
    "clean_corpus_str = '\\n'.join(clean_docs)"
   ]
  },
  {
   "cell_type": "code",
   "execution_count": 11,
   "metadata": {},
   "outputs": [],
   "source": [
    "f = open('data/corpus/R8.clean.txt', 'w')\n",
    "#f = open('data/wiki_long_abstracts_en_text.clean.txt', 'w')\n",
    "f.write(clean_corpus_str)\n",
    "f.close()"
   ]
  },
  {
   "cell_type": "code",
   "execution_count": 12,
   "metadata": {},
   "outputs": [],
   "source": [
    "#dataset = 'R8'\n",
    "min_len = 10000\n",
    "aver_len = 0\n",
    "max_len = 0 "
   ]
  },
  {
   "cell_type": "code",
   "execution_count": 13,
   "metadata": {},
   "outputs": [],
   "source": [
    "f = open('data/corpus/R8.clean.txt', 'r')\n",
    "#f = open('data/wiki_long_abstracts_en_text.txt', 'r')\n",
    "lines = f.readlines()\n",
    "for line in lines:\n",
    "    line = line.strip()\n",
    "    temp = line.split()\n",
    "    aver_len = aver_len + len(temp)\n",
    "    if len(temp) < min_len:\n",
    "        min_len = len(temp)\n",
    "    if len(temp) > max_len:\n",
    "        max_len = len(temp)\n",
    "f.close()"
   ]
  },
  {
   "cell_type": "code",
   "execution_count": 14,
   "metadata": {},
   "outputs": [
    {
     "name": "stdout",
     "output_type": "stream",
     "text": [
      "min_len : 0\n",
      "max_len : 67\n",
      "average_len : 7.945820379965458\n"
     ]
    }
   ],
   "source": [
    "aver_len = 1.0 * aver_len / len(lines)\n",
    "print('min_len : ' + str(min_len))\n",
    "print('max_len : ' + str(max_len))\n",
    "print('average_len : ' + str(aver_len))"
   ]
  }
 ],
 "metadata": {
  "kernelspec": {
   "display_name": "Python 3",
   "language": "python",
   "name": "python3"
  },
  "language_info": {
   "codemirror_mode": {
    "name": "ipython",
    "version": 3
   },
   "file_extension": ".py",
   "mimetype": "text/x-python",
   "name": "python",
   "nbconvert_exporter": "python",
   "pygments_lexer": "ipython3",
   "version": "3.6.5"
  }
 },
 "nbformat": 4,
 "nbformat_minor": 2
}
